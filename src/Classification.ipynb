{
 "cells": [
  {
   "cell_type": "markdown",
   "metadata": {},
   "source": [
    "# Classification "
   ]
  },
  {
   "cell_type": "code",
   "execution_count": 1,
   "metadata": {
    "collapsed": true
   },
   "outputs": [],
   "source": [
    "import numpy as np\n",
    "import pandas as pd\n",
    "import matplotlib.pyplot as plt\n",
    "from sklearn.model_selection import train_test_split, GridSearchCV\n",
    "from sklearn.pipeline import Pipeline\n",
    "from sklearn.preprocessing import StandardScaler\n",
    "\n",
    "%matplotlib inline"
   ]
  },
  {
   "cell_type": "markdown",
   "metadata": {},
   "source": [
    "## Carregamento das amostras"
   ]
  },
  {
   "cell_type": "code",
   "execution_count": 2,
   "metadata": {
    "collapsed": false
   },
   "outputs": [
    {
     "data": {
      "text/html": [
       "<div>\n",
       "<table border=\"1\" class=\"dataframe\">\n",
       "  <thead>\n",
       "    <tr style=\"text-align: right;\">\n",
       "      <th></th>\n",
       "      <th>nu_CPFCNPJ</th>\n",
       "      <th>qtdAditivosPorCPFCNPJ</th>\n",
       "      <th>qtdContratos</th>\n",
       "      <th>qtdContratos_ganhos</th>\n",
       "      <th>vl_TotalContrato</th>\n",
       "      <th>valor_total</th>\n",
       "      <th>valor_total_pregao</th>\n",
       "      <th>valor_total_convite</th>\n",
       "      <th>valor_total_tomada</th>\n",
       "      <th>participacoes_pregao</th>\n",
       "      <th>participacoes_tomada</th>\n",
       "      <th>participacoes_convite</th>\n",
       "      <th>participacoes_total</th>\n",
       "      <th>label</th>\n",
       "    </tr>\n",
       "  </thead>\n",
       "  <tbody>\n",
       "    <tr>\n",
       "      <th>0</th>\n",
       "      <td>10362263000102</td>\n",
       "      <td>94</td>\n",
       "      <td>12</td>\n",
       "      <td>12</td>\n",
       "      <td>819940.00</td>\n",
       "      <td>1186185.05</td>\n",
       "      <td>328424.10</td>\n",
       "      <td>217864.25</td>\n",
       "      <td>639896.70</td>\n",
       "      <td>4</td>\n",
       "      <td>5</td>\n",
       "      <td>4</td>\n",
       "      <td>13</td>\n",
       "      <td>1</td>\n",
       "    </tr>\n",
       "    <tr>\n",
       "      <th>3</th>\n",
       "      <td>10365996000192</td>\n",
       "      <td>354</td>\n",
       "      <td>63</td>\n",
       "      <td>63</td>\n",
       "      <td>2206238.34</td>\n",
       "      <td>239217.70</td>\n",
       "      <td>216737.70</td>\n",
       "      <td>11080.00</td>\n",
       "      <td>11400.00</td>\n",
       "      <td>8</td>\n",
       "      <td>1</td>\n",
       "      <td>1</td>\n",
       "      <td>10</td>\n",
       "      <td>1</td>\n",
       "    </tr>\n",
       "    <tr>\n",
       "      <th>6</th>\n",
       "      <td>10408838000172</td>\n",
       "      <td>228</td>\n",
       "      <td>24</td>\n",
       "      <td>24</td>\n",
       "      <td>2199888.36</td>\n",
       "      <td>2773393.55</td>\n",
       "      <td>784044.84</td>\n",
       "      <td>1570827.41</td>\n",
       "      <td>418521.30</td>\n",
       "      <td>6</td>\n",
       "      <td>3</td>\n",
       "      <td>29</td>\n",
       "      <td>38</td>\n",
       "      <td>1</td>\n",
       "    </tr>\n",
       "    <tr>\n",
       "      <th>9</th>\n",
       "      <td>10414278000169</td>\n",
       "      <td>898</td>\n",
       "      <td>92</td>\n",
       "      <td>92</td>\n",
       "      <td>3671676.51</td>\n",
       "      <td>1579741.40</td>\n",
       "      <td>124532.00</td>\n",
       "      <td>1399209.00</td>\n",
       "      <td>56000.40</td>\n",
       "      <td>4</td>\n",
       "      <td>2</td>\n",
       "      <td>61</td>\n",
       "      <td>67</td>\n",
       "      <td>1</td>\n",
       "    </tr>\n",
       "    <tr>\n",
       "      <th>12</th>\n",
       "      <td>10445253000122</td>\n",
       "      <td>404</td>\n",
       "      <td>49</td>\n",
       "      <td>49</td>\n",
       "      <td>30955873.37</td>\n",
       "      <td>1777174.21</td>\n",
       "      <td>629167.64</td>\n",
       "      <td>1094890.94</td>\n",
       "      <td>53115.63</td>\n",
       "      <td>4</td>\n",
       "      <td>2</td>\n",
       "      <td>15</td>\n",
       "      <td>21</td>\n",
       "      <td>1</td>\n",
       "    </tr>\n",
       "  </tbody>\n",
       "</table>\n",
       "</div>"
      ],
      "text/plain": [
       "        nu_CPFCNPJ  qtdAditivosPorCPFCNPJ  qtdContratos  qtdContratos_ganhos  \\\n",
       "0   10362263000102                     94            12                   12   \n",
       "3   10365996000192                    354            63                   63   \n",
       "6   10408838000172                    228            24                   24   \n",
       "9   10414278000169                    898            92                   92   \n",
       "12  10445253000122                    404            49                   49   \n",
       "\n",
       "    vl_TotalContrato  valor_total  valor_total_pregao  valor_total_convite  \\\n",
       "0          819940.00   1186185.05           328424.10            217864.25   \n",
       "3         2206238.34    239217.70           216737.70             11080.00   \n",
       "6         2199888.36   2773393.55           784044.84           1570827.41   \n",
       "9         3671676.51   1579741.40           124532.00           1399209.00   \n",
       "12       30955873.37   1777174.21           629167.64           1094890.94   \n",
       "\n",
       "    valor_total_tomada  participacoes_pregao  participacoes_tomada  \\\n",
       "0            639896.70                     4                     5   \n",
       "3             11400.00                     8                     1   \n",
       "6            418521.30                     6                     3   \n",
       "9             56000.40                     4                     2   \n",
       "12            53115.63                     4                     2   \n",
       "\n",
       "    participacoes_convite  participacoes_total  label  \n",
       "0                       4                   13      1  \n",
       "3                       1                   10      1  \n",
       "6                      29                   38      1  \n",
       "9                      61                   67      1  \n",
       "12                     15                   21      1  "
      ]
     },
     "execution_count": 2,
     "metadata": {},
     "output_type": "execute_result"
    }
   ],
   "source": [
    "df_dados= pd.read_csv('../data/features.csv', sep=';', index_col=0)\n",
    "df_dados.head()"
   ]
  },
  {
   "cell_type": "code",
   "execution_count": 3,
   "metadata": {
    "collapsed": false
   },
   "outputs": [
    {
     "name": "stdout",
     "output_type": "stream",
     "text": [
      "(132, 12) (132,)\n"
     ]
    }
   ],
   "source": [
    "samples = df_dados.drop(['nu_CPFCNPJ', 'label'], axis=1).values\n",
    "labels = df_dados.label.values\n",
    "print(samples.shape, labels.shape)"
   ]
  },
  {
   "cell_type": "markdown",
   "metadata": {},
   "source": [
    "## Classificação"
   ]
  },
  {
   "cell_type": "code",
   "execution_count": null,
   "metadata": {
    "collapsed": true
   },
   "outputs": [],
   "source": []
  }
 ],
 "metadata": {
  "kernelspec": {
   "display_name": "Python 3",
   "language": "python",
   "name": "python3"
  },
  "language_info": {
   "codemirror_mode": {
    "name": "ipython",
    "version": 3
   },
   "file_extension": ".py",
   "mimetype": "text/x-python",
   "name": "python",
   "nbconvert_exporter": "python",
   "pygments_lexer": "ipython3",
   "version": "3.5.1"
  },
  "nav_menu": {},
  "toc": {
   "navigate_menu": true,
   "number_sections": true,
   "sideBar": true,
   "threshold": 6,
   "toc_cell": false,
   "toc_section_display": "block",
   "toc_window_display": false
  }
 },
 "nbformat": 4,
 "nbformat_minor": 0
}
