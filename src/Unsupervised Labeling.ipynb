{
 "cells": [
  {
   "cell_type": "code",
   "execution_count": 69,
   "metadata": {
    "collapsed": true
   },
   "outputs": [],
   "source": [
    "import numpy as np\n",
    "import pandas as pd\n",
    "import matplotlib.pyplot as plt\n",
    "from sklearn.cluster import KMeans\n",
    "from sklearn.decomposition import PCA\n",
    "from sklearn.preprocessing import StandardScaler\n",
    "import seaborn as sb\n",
    "from scipy.spatial.distance import cdist\n",
    "\n",
    "%matplotlib inline"
   ]
  },
  {
   "cell_type": "code",
   "execution_count": 70,
   "metadata": {
    "collapsed": false
   },
   "outputs": [
    {
     "name": "stdout",
     "output_type": "stream",
     "text": [
      "(132, 13)\n"
     ]
    },
    {
     "data": {
      "text/html": [
       "<div>\n",
       "<table border=\"1\" class=\"dataframe\">\n",
       "  <thead>\n",
       "    <tr style=\"text-align: right;\">\n",
       "      <th></th>\n",
       "      <th>nu_CPFCNPJ</th>\n",
       "      <th>qtdAditivosPorCPFCNPJ</th>\n",
       "      <th>qtdContratos</th>\n",
       "      <th>qtdContratos_ganhos</th>\n",
       "      <th>vl_TotalContrato</th>\n",
       "      <th>valor_total</th>\n",
       "      <th>valor_total_pregao</th>\n",
       "      <th>valor_total_convite</th>\n",
       "      <th>valor_total_tomada</th>\n",
       "      <th>participacoes_pregao</th>\n",
       "      <th>participacoes_tomada</th>\n",
       "      <th>participacoes_convite</th>\n",
       "      <th>participacoes_total</th>\n",
       "    </tr>\n",
       "  </thead>\n",
       "  <tbody>\n",
       "    <tr>\n",
       "      <th>0</th>\n",
       "      <td>10362263000102</td>\n",
       "      <td>94</td>\n",
       "      <td>12</td>\n",
       "      <td>12</td>\n",
       "      <td>819940.00</td>\n",
       "      <td>1186185.05</td>\n",
       "      <td>328424.10</td>\n",
       "      <td>217864.25</td>\n",
       "      <td>639896.70</td>\n",
       "      <td>4</td>\n",
       "      <td>5</td>\n",
       "      <td>4</td>\n",
       "      <td>13</td>\n",
       "    </tr>\n",
       "    <tr>\n",
       "      <th>3</th>\n",
       "      <td>10365996000192</td>\n",
       "      <td>354</td>\n",
       "      <td>63</td>\n",
       "      <td>63</td>\n",
       "      <td>2206238.34</td>\n",
       "      <td>239217.70</td>\n",
       "      <td>216737.70</td>\n",
       "      <td>11080.00</td>\n",
       "      <td>11400.00</td>\n",
       "      <td>8</td>\n",
       "      <td>1</td>\n",
       "      <td>1</td>\n",
       "      <td>10</td>\n",
       "    </tr>\n",
       "    <tr>\n",
       "      <th>6</th>\n",
       "      <td>10408838000172</td>\n",
       "      <td>228</td>\n",
       "      <td>24</td>\n",
       "      <td>24</td>\n",
       "      <td>2199888.36</td>\n",
       "      <td>2773393.55</td>\n",
       "      <td>784044.84</td>\n",
       "      <td>1570827.41</td>\n",
       "      <td>418521.30</td>\n",
       "      <td>6</td>\n",
       "      <td>3</td>\n",
       "      <td>29</td>\n",
       "      <td>38</td>\n",
       "    </tr>\n",
       "    <tr>\n",
       "      <th>9</th>\n",
       "      <td>10414278000169</td>\n",
       "      <td>898</td>\n",
       "      <td>92</td>\n",
       "      <td>92</td>\n",
       "      <td>3671676.51</td>\n",
       "      <td>1579741.40</td>\n",
       "      <td>124532.00</td>\n",
       "      <td>1399209.00</td>\n",
       "      <td>56000.40</td>\n",
       "      <td>4</td>\n",
       "      <td>2</td>\n",
       "      <td>61</td>\n",
       "      <td>67</td>\n",
       "    </tr>\n",
       "    <tr>\n",
       "      <th>12</th>\n",
       "      <td>10445253000122</td>\n",
       "      <td>404</td>\n",
       "      <td>49</td>\n",
       "      <td>49</td>\n",
       "      <td>30955873.37</td>\n",
       "      <td>1777174.21</td>\n",
       "      <td>629167.64</td>\n",
       "      <td>1094890.94</td>\n",
       "      <td>53115.63</td>\n",
       "      <td>4</td>\n",
       "      <td>2</td>\n",
       "      <td>15</td>\n",
       "      <td>21</td>\n",
       "    </tr>\n",
       "  </tbody>\n",
       "</table>\n",
       "</div>"
      ],
      "text/plain": [
       "        nu_CPFCNPJ  qtdAditivosPorCPFCNPJ  qtdContratos  qtdContratos_ganhos  \\\n",
       "0   10362263000102                     94            12                   12   \n",
       "3   10365996000192                    354            63                   63   \n",
       "6   10408838000172                    228            24                   24   \n",
       "9   10414278000169                    898            92                   92   \n",
       "12  10445253000122                    404            49                   49   \n",
       "\n",
       "    vl_TotalContrato  valor_total  valor_total_pregao  valor_total_convite  \\\n",
       "0          819940.00   1186185.05           328424.10            217864.25   \n",
       "3         2206238.34    239217.70           216737.70             11080.00   \n",
       "6         2199888.36   2773393.55           784044.84           1570827.41   \n",
       "9         3671676.51   1579741.40           124532.00           1399209.00   \n",
       "12       30955873.37   1777174.21           629167.64           1094890.94   \n",
       "\n",
       "    valor_total_tomada  participacoes_pregao  participacoes_tomada  \\\n",
       "0            639896.70                     4                     5   \n",
       "3             11400.00                     8                     1   \n",
       "6            418521.30                     6                     3   \n",
       "9             56000.40                     4                     2   \n",
       "12            53115.63                     4                     2   \n",
       "\n",
       "    participacoes_convite  participacoes_total  \n",
       "0                       4                   13  \n",
       "3                       1                   10  \n",
       "6                      29                   38  \n",
       "9                      61                   67  \n",
       "12                     15                   21  "
      ]
     },
     "execution_count": 70,
     "metadata": {},
     "output_type": "execute_result"
    }
   ],
   "source": [
    "df_dados = pd.read_csv('../data/features.csv', sep=';', index_col=0, dtype={'nu_CPFCNPJ':str})\n",
    "print(df_dados.shape)\n",
    "df_dados.head()"
   ]
  },
  {
   "cell_type": "code",
   "execution_count": 71,
   "metadata": {
    "collapsed": false
   },
   "outputs": [
    {
     "name": "stdout",
     "output_type": "stream",
     "text": [
      "(27270, 17)\n"
     ]
    },
    {
     "data": {
      "text/html": [
       "<div>\n",
       "<table border=\"1\" class=\"dataframe\">\n",
       "  <thead>\n",
       "    <tr style=\"text-align: right;\">\n",
       "      <th></th>\n",
       "      <th>Tipo de Pessoa</th>\n",
       "      <th>nu_CPFCNPJ</th>\n",
       "      <th>Nome Informado pelo Órgão Sancionador</th>\n",
       "      <th>Razão Social - Cadastro Receita</th>\n",
       "      <th>Nome Fantasia - Cadastro Receita</th>\n",
       "      <th>Número do processo</th>\n",
       "      <th>Tipo Sanção</th>\n",
       "      <th>Data Início Sanção</th>\n",
       "      <th>Data Final Sanção</th>\n",
       "      <th>Órgão Sancionador</th>\n",
       "      <th>UF Órgão Sancionador</th>\n",
       "      <th>Origem Informações</th>\n",
       "      <th>Data Origem Informações</th>\n",
       "      <th>Data Publicação</th>\n",
       "      <th>Publicação</th>\n",
       "      <th>Detalhamento</th>\n",
       "      <th>Abrangência definida em decisão judicial</th>\n",
       "    </tr>\n",
       "  </thead>\n",
       "  <tbody>\n",
       "    <tr>\n",
       "      <th>0</th>\n",
       "      <td>Física</td>\n",
       "      <td>01540142817</td>\n",
       "      <td>01540142817</td>\n",
       "      <td>FAIAD HABIB ZAKIR</td>\n",
       "      <td>NaN</td>\n",
       "      <td>NaN</td>\n",
       "      <td>NaN</td>\n",
       "      <td>NaN</td>\n",
       "      <td>NaN</td>\n",
       "      <td>NaN</td>\n",
       "      <td>NaN</td>\n",
       "      <td>NaN</td>\n",
       "      <td>NaN</td>\n",
       "      <td>NaN</td>\n",
       "      <td>NaN</td>\n",
       "      <td>NaN</td>\n",
       "      <td>NaN</td>\n",
       "    </tr>\n",
       "    <tr>\n",
       "      <th>1</th>\n",
       "      <td>NaN</td>\n",
       "      <td>00001655520138260240</td>\n",
       "      <td>Proibição - Lei de Improbidade</td>\n",
       "      <td>08/09/2014</td>\n",
       "      <td>08/09/2019</td>\n",
       "      <td>Tribunal de Justiça do Estado de São Paulo / 1...</td>\n",
       "      <td>SP</td>\n",
       "      <td>Conselho Nacional de Justiça</td>\n",
       "      <td>08/05/2015</td>\n",
       "      <td>NaN</td>\n",
       "      <td>NaN</td>\n",
       "      <td>NaN</td>\n",
       "      <td>NaN</td>\n",
       "      <td>NaN</td>\n",
       "      <td>NaN</td>\n",
       "      <td>NaN</td>\n",
       "      <td>NaN</td>\n",
       "    </tr>\n",
       "    <tr>\n",
       "      <th>5</th>\n",
       "      <td>Física</td>\n",
       "      <td>01540142817</td>\n",
       "      <td>01540142817</td>\n",
       "      <td>FAIAD HABIB ZAKIR</td>\n",
       "      <td>NaN</td>\n",
       "      <td>NaN</td>\n",
       "      <td>NaN</td>\n",
       "      <td>NaN</td>\n",
       "      <td>NaN</td>\n",
       "      <td>NaN</td>\n",
       "      <td>NaN</td>\n",
       "      <td>NaN</td>\n",
       "      <td>NaN</td>\n",
       "      <td>NaN</td>\n",
       "      <td>NaN</td>\n",
       "      <td>NaN</td>\n",
       "      <td>NaN</td>\n",
       "    </tr>\n",
       "    <tr>\n",
       "      <th>6</th>\n",
       "      <td>NaN</td>\n",
       "      <td>2400120120008920</td>\n",
       "      <td>Proibição - Lei de Improbidade</td>\n",
       "      <td>13/08/2014</td>\n",
       "      <td>13/08/2019</td>\n",
       "      <td>Tribunal de Justiça do Estado de São Paulo / 1...</td>\n",
       "      <td>SP</td>\n",
       "      <td>Conselho Nacional de Justiça</td>\n",
       "      <td>10/12/2014</td>\n",
       "      <td>NaN</td>\n",
       "      <td>NaN</td>\n",
       "      <td>NaN</td>\n",
       "      <td>NaN</td>\n",
       "      <td>NaN</td>\n",
       "      <td>NaN</td>\n",
       "      <td>NaN</td>\n",
       "      <td>NaN</td>\n",
       "    </tr>\n",
       "    <tr>\n",
       "      <th>10</th>\n",
       "      <td>Física</td>\n",
       "      <td>01540142817</td>\n",
       "      <td>01540142817</td>\n",
       "      <td>FAIAD HABIB ZAKIR</td>\n",
       "      <td>NaN</td>\n",
       "      <td>NaN</td>\n",
       "      <td>NaN</td>\n",
       "      <td>NaN</td>\n",
       "      <td>NaN</td>\n",
       "      <td>NaN</td>\n",
       "      <td>NaN</td>\n",
       "      <td>NaN</td>\n",
       "      <td>NaN</td>\n",
       "      <td>NaN</td>\n",
       "      <td>NaN</td>\n",
       "      <td>NaN</td>\n",
       "      <td>NaN</td>\n",
       "    </tr>\n",
       "  </tbody>\n",
       "</table>\n",
       "</div>"
      ],
      "text/plain": [
       "   Tipo de Pessoa            nu_CPFCNPJ Nome Informado pelo Órgão Sancionador  \\\n",
       "0          Física           01540142817                           01540142817   \n",
       "1             NaN  00001655520138260240        Proibição - Lei de Improbidade   \n",
       "5          Física           01540142817                           01540142817   \n",
       "6             NaN      2400120120008920        Proibição - Lei de Improbidade   \n",
       "10         Física           01540142817                           01540142817   \n",
       "\n",
       "   Razão Social - Cadastro Receita Nome Fantasia - Cadastro Receita  \\\n",
       "0                FAIAD HABIB ZAKIR                              NaN   \n",
       "1                       08/09/2014                       08/09/2019   \n",
       "5                FAIAD HABIB ZAKIR                              NaN   \n",
       "6                       13/08/2014                       13/08/2019   \n",
       "10               FAIAD HABIB ZAKIR                              NaN   \n",
       "\n",
       "                                   Número do processo Tipo Sanção  \\\n",
       "0                                                 NaN         NaN   \n",
       "1   Tribunal de Justiça do Estado de São Paulo / 1...          SP   \n",
       "5                                                 NaN         NaN   \n",
       "6   Tribunal de Justiça do Estado de São Paulo / 1...          SP   \n",
       "10                                                NaN         NaN   \n",
       "\n",
       "              Data Início Sanção Data Final Sanção Órgão Sancionador  \\\n",
       "0                            NaN               NaN               NaN   \n",
       "1   Conselho Nacional de Justiça        08/05/2015               NaN   \n",
       "5                            NaN               NaN               NaN   \n",
       "6   Conselho Nacional de Justiça        10/12/2014               NaN   \n",
       "10                           NaN               NaN               NaN   \n",
       "\n",
       "   UF Órgão Sancionador Origem Informações Data Origem Informações  \\\n",
       "0                   NaN                NaN                     NaN   \n",
       "1                   NaN                NaN                     NaN   \n",
       "5                   NaN                NaN                     NaN   \n",
       "6                   NaN                NaN                     NaN   \n",
       "10                  NaN                NaN                     NaN   \n",
       "\n",
       "   Data Publicação Publicação Detalhamento  \\\n",
       "0              NaN        NaN          NaN   \n",
       "1              NaN        NaN          NaN   \n",
       "5              NaN        NaN          NaN   \n",
       "6              NaN        NaN          NaN   \n",
       "10             NaN        NaN          NaN   \n",
       "\n",
       "   Abrangência definida em decisão judicial  \n",
       "0                                       NaN  \n",
       "1                                       NaN  \n",
       "5                                       NaN  \n",
       "6                                       NaN  \n",
       "10                                      NaN  "
      ]
     },
     "execution_count": 71,
     "metadata": {},
     "output_type": "execute_result"
    }
   ],
   "source": [
    "df_inidon = pd.read_csv('../data/ceis102016.csv', sep='\\t', dtype={'CPF ou CNPJ do Sancionado':str})\n",
    "df_inidon = df_inidon.rename(columns={'CPF ou CNPJ do Sancionado':'nu_CPFCNPJ'})\n",
    "df_inidon = df_inidon.dropna(subset=['nu_CPFCNPJ'])\n",
    "print(df_inidon.shape)\n",
    "df_inidon.head()"
   ]
  },
  {
   "cell_type": "code",
   "execution_count": 72,
   "metadata": {
    "collapsed": false
   },
   "outputs": [
    {
     "name": "stdout",
     "output_type": "stream",
     "text": [
      "(2, 13)\n"
     ]
    },
    {
     "data": {
      "text/html": [
       "<div>\n",
       "<table border=\"1\" class=\"dataframe\">\n",
       "  <thead>\n",
       "    <tr style=\"text-align: right;\">\n",
       "      <th></th>\n",
       "      <th>nu_CPFCNPJ</th>\n",
       "      <th>qtdAditivosPorCPFCNPJ</th>\n",
       "      <th>qtdContratos</th>\n",
       "      <th>qtdContratos_ganhos</th>\n",
       "      <th>vl_TotalContrato</th>\n",
       "      <th>valor_total</th>\n",
       "      <th>valor_total_pregao</th>\n",
       "      <th>valor_total_convite</th>\n",
       "      <th>valor_total_tomada</th>\n",
       "      <th>participacoes_pregao</th>\n",
       "      <th>participacoes_tomada</th>\n",
       "      <th>participacoes_convite</th>\n",
       "      <th>participacoes_total</th>\n",
       "    </tr>\n",
       "  </thead>\n",
       "  <tbody>\n",
       "    <tr>\n",
       "      <th>0</th>\n",
       "      <td>12085495000188</td>\n",
       "      <td>153</td>\n",
       "      <td>20</td>\n",
       "      <td>20</td>\n",
       "      <td>1174833.51</td>\n",
       "      <td>165149.51</td>\n",
       "      <td>101525.0</td>\n",
       "      <td>48782.51</td>\n",
       "      <td>14842.0</td>\n",
       "      <td>1</td>\n",
       "      <td>1</td>\n",
       "      <td>2</td>\n",
       "      <td>4</td>\n",
       "    </tr>\n",
       "    <tr>\n",
       "      <th>1</th>\n",
       "      <td>24116337000127</td>\n",
       "      <td>116</td>\n",
       "      <td>14</td>\n",
       "      <td>14</td>\n",
       "      <td>460328.06</td>\n",
       "      <td>71454.78</td>\n",
       "      <td>50905.3</td>\n",
       "      <td>5870.48</td>\n",
       "      <td>14679.0</td>\n",
       "      <td>4</td>\n",
       "      <td>1</td>\n",
       "      <td>5</td>\n",
       "      <td>10</td>\n",
       "    </tr>\n",
       "  </tbody>\n",
       "</table>\n",
       "</div>"
      ],
      "text/plain": [
       "       nu_CPFCNPJ  qtdAditivosPorCPFCNPJ  qtdContratos  qtdContratos_ganhos  \\\n",
       "0  12085495000188                    153            20                   20   \n",
       "1  24116337000127                    116            14                   14   \n",
       "\n",
       "   vl_TotalContrato  valor_total  valor_total_pregao  valor_total_convite  \\\n",
       "0        1174833.51    165149.51            101525.0             48782.51   \n",
       "1         460328.06     71454.78             50905.3              5870.48   \n",
       "\n",
       "   valor_total_tomada  participacoes_pregao  participacoes_tomada  \\\n",
       "0             14842.0                     1                     1   \n",
       "1             14679.0                     4                     1   \n",
       "\n",
       "   participacoes_convite  participacoes_total  \n",
       "0                      2                    4  \n",
       "1                      5                   10  "
      ]
     },
     "execution_count": 72,
     "metadata": {},
     "output_type": "execute_result"
    }
   ],
   "source": [
    "df_merge = df_dados.merge(df_inidon[['nu_CPFCNPJ']], on='nu_CPFCNPJ')\n",
    "print(df_merge.shape)\n",
    "df_merge.head()"
   ]
  },
  {
   "cell_type": "code",
   "execution_count": 73,
   "metadata": {
    "collapsed": false
   },
   "outputs": [],
   "source": [
    "def plot_samples(samples, labels):\n",
    "    plt.figure(figsize=(10,6))\n",
    "    for l, c in zip([0, 1], ['red', 'blue']):\n",
    "        plt.scatter(samples[labels==l,0], samples_pca[labels==l,1], c=c)\n",
    "        \n",
    "def process_samples(samples):\n",
    "    std = StandardScaler()\n",
    "    samples = std.fit_transform(samples)\n",
    "\n",
    "    kmeans = KMeans(n_clusters=2)\n",
    "    labels = kmeans.fit_predict(samples)\n",
    "    print(np.bincount(labels))\n",
    "\n",
    "    pca = PCA(n_components=2)\n",
    "    samples_pca = pca.fit_transform(samples)\n",
    "    print(np.cumsum(pca.explained_variance_ratio_))\n",
    "    \n",
    "    plot_samples(samples_pca, labels)"
   ]
  },
  {
   "cell_type": "code",
   "execution_count": 74,
   "metadata": {
    "collapsed": false
   },
   "outputs": [
    {
     "name": "stdout",
     "output_type": "stream",
     "text": [
      "[  6 126]\n",
      "[ 0.63867102  0.78202716]\n"
     ]
    },
    {
     "name": "stderr",
     "output_type": "stream",
     "text": [
      "/Users/arnaldo/miniconda3/lib/python3.5/site-packages/sklearn/cluster/k_means_.py:889: RuntimeWarning: Explicit initial center position passed: performing only one init in k-means instead of n_init=10\n",
      "  return_n_iter=True)\n"
     ]
    },
    {
     "data": {
      "text/plain": [
       "<matplotlib.collections.PathCollection at 0x11a1af400>"
      ]
     },
     "execution_count": 74,
     "metadata": {},
     "output_type": "execute_result"
    },
    {
     "data": {
      "image/png": "[encoded data removed]",
      "text/plain": [
       "<matplotlib.figure.Figure at 0x112900b38>"
      ]
     },
     "metadata": {},
     "output_type": "display_data"
    }
   ],
   "source": [
    "samples = df_dados.drop('nu_CPFCNPJ', axis=1).values\n",
    "samples_merge = df_merge.drop('nu_CPFCNPJ', axis=1).values\n",
    "\n",
    "std = StandardScaler()\n",
    "std.fit(samples)\n",
    "samples = std.transform(samples)\n",
    "samples_merge = std.transform(samples_merge)\n",
    "\n",
    "kmeans = KMeans(n_clusters=2, init=samples_merge)\n",
    "kmeans.fit(samples)\n",
    "labels = kmeans.predict(samples)\n",
    "print(np.bincount(labels))\n",
    "\n",
    "pca = PCA(n_components=2)\n",
    "pca.fit(samples)\n",
    "samples_pca = pca.transform(samples)\n",
    "samples_merge = pca.transform(samples_merge)\n",
    "print(np.cumsum(pca.explained_variance_ratio_))\n",
    "\n",
    "plot_samples(samples_pca, labels)\n",
    "plt.scatter(samples_merge[:,0], samples_merge[:,1], s=100, c='green')"
   ]
  },
  {
   "cell_type": "code",
   "execution_count": 75,
   "metadata": {
    "collapsed": false
   },
   "outputs": [
    {
     "name": "stdout",
     "output_type": "stream",
     "text": [
      "[126   6]\n",
      "[ 0.63867102  0.78202716]\n"
     ]
    },
    {
     "data": {
      "image/png": "[encoded data removed]",
      "text/plain": [
       "<matplotlib.figure.Figure at 0x103df1e10>"
      ]
     },
     "metadata": {},
     "output_type": "display_data"
    }
   ],
   "source": [
    "samples = df_dados.drop('nu_CPFCNPJ', axis=1).values\n",
    "\n",
    "process_samples(samples)"
   ]
  },
  {
   "cell_type": "code",
   "execution_count": 81,
   "metadata": {
    "collapsed": false
   },
   "outputs": [
    {
     "name": "stdout",
     "output_type": "stream",
     "text": [
      "[34 98]\n",
      "(132, 12) (2, 12) (132, 2)\n",
      "0.0 19.5543828064 2.35234548304\n"
     ]
    },
    {
     "data": {
      "image/png": "[encoded data removed]",
      "text/plain": [
       "<matplotlib.figure.Figure at 0x11b7fc080>"
      ]
     },
     "metadata": {},
     "output_type": "display_data"
    }
   ],
   "source": [
    "samples = df_dados.drop('nu_CPFCNPJ', axis=1).values\n",
    "samples_merge = df_merge.drop('nu_CPFCNPJ', axis=1).values\n",
    "\n",
    "std = StandardScaler()\n",
    "std.fit(samples)\n",
    "samples = std.transform(samples)\n",
    "samples_merge = std.transform(samples_merge)\n",
    "\n",
    "dist = cdist(samples, samples_merge)\n",
    "threshold = 0.5\n",
    "labels[dist[:,0] < threshold] = 0\n",
    "labels[dist[:,0] >= threshold] = 1\n",
    "print(np.bincount(labels))\n",
    "\n",
    "print(samples.shape, samples_merge.shape, dist.shape)\n",
    "print(dist.min(), dist.max(), dist.mean())\n",
    "plot_samples(samples, labels)"
   ]
  },
  {
   "cell_type": "code",
   "execution_count": 82,
   "metadata": {
    "collapsed": false
   },
   "outputs": [
    {
     "data": {
      "text/html": [
       "<div>\n",
       "<table border=\"1\" class=\"dataframe\">\n",
       "  <thead>\n",
       "    <tr style=\"text-align: right;\">\n",
       "      <th></th>\n",
       "      <th>nu_CPFCNPJ</th>\n",
       "      <th>qtdAditivosPorCPFCNPJ</th>\n",
       "      <th>qtdContratos</th>\n",
       "      <th>qtdContratos_ganhos</th>\n",
       "      <th>vl_TotalContrato</th>\n",
       "      <th>valor_total</th>\n",
       "      <th>valor_total_pregao</th>\n",
       "      <th>valor_total_convite</th>\n",
       "      <th>valor_total_tomada</th>\n",
       "      <th>participacoes_pregao</th>\n",
       "      <th>participacoes_tomada</th>\n",
       "      <th>participacoes_convite</th>\n",
       "      <th>participacoes_total</th>\n",
       "      <th>label</th>\n",
       "    </tr>\n",
       "  </thead>\n",
       "  <tbody>\n",
       "    <tr>\n",
       "      <th>0</th>\n",
       "      <td>10362263000102</td>\n",
       "      <td>94</td>\n",
       "      <td>12</td>\n",
       "      <td>12</td>\n",
       "      <td>819940.00</td>\n",
       "      <td>1186185.05</td>\n",
       "      <td>328424.10</td>\n",
       "      <td>217864.25</td>\n",
       "      <td>639896.70</td>\n",
       "      <td>4</td>\n",
       "      <td>5</td>\n",
       "      <td>4</td>\n",
       "      <td>13</td>\n",
       "      <td>1</td>\n",
       "    </tr>\n",
       "    <tr>\n",
       "      <th>3</th>\n",
       "      <td>10365996000192</td>\n",
       "      <td>354</td>\n",
       "      <td>63</td>\n",
       "      <td>63</td>\n",
       "      <td>2206238.34</td>\n",
       "      <td>239217.70</td>\n",
       "      <td>216737.70</td>\n",
       "      <td>11080.00</td>\n",
       "      <td>11400.00</td>\n",
       "      <td>8</td>\n",
       "      <td>1</td>\n",
       "      <td>1</td>\n",
       "      <td>10</td>\n",
       "      <td>1</td>\n",
       "    </tr>\n",
       "    <tr>\n",
       "      <th>6</th>\n",
       "      <td>10408838000172</td>\n",
       "      <td>228</td>\n",
       "      <td>24</td>\n",
       "      <td>24</td>\n",
       "      <td>2199888.36</td>\n",
       "      <td>2773393.55</td>\n",
       "      <td>784044.84</td>\n",
       "      <td>1570827.41</td>\n",
       "      <td>418521.30</td>\n",
       "      <td>6</td>\n",
       "      <td>3</td>\n",
       "      <td>29</td>\n",
       "      <td>38</td>\n",
       "      <td>1</td>\n",
       "    </tr>\n",
       "    <tr>\n",
       "      <th>9</th>\n",
       "      <td>10414278000169</td>\n",
       "      <td>898</td>\n",
       "      <td>92</td>\n",
       "      <td>92</td>\n",
       "      <td>3671676.51</td>\n",
       "      <td>1579741.40</td>\n",
       "      <td>124532.00</td>\n",
       "      <td>1399209.00</td>\n",
       "      <td>56000.40</td>\n",
       "      <td>4</td>\n",
       "      <td>2</td>\n",
       "      <td>61</td>\n",
       "      <td>67</td>\n",
       "      <td>1</td>\n",
       "    </tr>\n",
       "    <tr>\n",
       "      <th>12</th>\n",
       "      <td>10445253000122</td>\n",
       "      <td>404</td>\n",
       "      <td>49</td>\n",
       "      <td>49</td>\n",
       "      <td>30955873.37</td>\n",
       "      <td>1777174.21</td>\n",
       "      <td>629167.64</td>\n",
       "      <td>1094890.94</td>\n",
       "      <td>53115.63</td>\n",
       "      <td>4</td>\n",
       "      <td>2</td>\n",
       "      <td>15</td>\n",
       "      <td>21</td>\n",
       "      <td>1</td>\n",
       "    </tr>\n",
       "  </tbody>\n",
       "</table>\n",
       "</div>"
      ],
      "text/plain": [
       "        nu_CPFCNPJ  qtdAditivosPorCPFCNPJ  qtdContratos  qtdContratos_ganhos  \\\n",
       "0   10362263000102                     94            12                   12   \n",
       "3   10365996000192                    354            63                   63   \n",
       "6   10408838000172                    228            24                   24   \n",
       "9   10414278000169                    898            92                   92   \n",
       "12  10445253000122                    404            49                   49   \n",
       "\n",
       "    vl_TotalContrato  valor_total  valor_total_pregao  valor_total_convite  \\\n",
       "0          819940.00   1186185.05           328424.10            217864.25   \n",
       "3         2206238.34    239217.70           216737.70             11080.00   \n",
       "6         2199888.36   2773393.55           784044.84           1570827.41   \n",
       "9         3671676.51   1579741.40           124532.00           1399209.00   \n",
       "12       30955873.37   1777174.21           629167.64           1094890.94   \n",
       "\n",
       "    valor_total_tomada  participacoes_pregao  participacoes_tomada  \\\n",
       "0            639896.70                     4                     5   \n",
       "3             11400.00                     8                     1   \n",
       "6            418521.30                     6                     3   \n",
       "9             56000.40                     4                     2   \n",
       "12            53115.63                     4                     2   \n",
       "\n",
       "    participacoes_convite  participacoes_total  label  \n",
       "0                       4                   13      1  \n",
       "3                       1                   10      1  \n",
       "6                      29                   38      1  \n",
       "9                      61                   67      1  \n",
       "12                     15                   21      1  "
      ]
     },
     "execution_count": 82,
     "metadata": {},
     "output_type": "execute_result"
    }
   ],
   "source": [
    "df_dados['label'] = labels\n",
    "df_dados.head()"
   ]
  },
  {
   "cell_type": "code",
   "execution_count": 83,
   "metadata": {
    "collapsed": true
   },
   "outputs": [],
   "source": [
    "df_dados.to_csv(path_or_buf='../data/features.csv', sep=';')"
   ]
  },
  {
   "cell_type": "code",
   "execution_count": null,
   "metadata": {
    "collapsed": true
   },
   "outputs": [],
   "source": []
  }
 ],
 "metadata": {
  "kernelspec": {
   "display_name": "Python 3",
   "language": "python",
   "name": "python3"
  },
  "language_info": {
   "codemirror_mode": {
    "name": "ipython",
    "version": 3
   },
   "file_extension": ".py",
   "mimetype": "text/x-python",
   "name": "python",
   "nbconvert_exporter": "python",
   "pygments_lexer": "ipython3",
   "version": "3.5.1"
  },
  "nav_menu": {},
  "toc": {
   "navigate_menu": true,
   "number_sections": true,
   "sideBar": true,
   "threshold": 6,
   "toc_cell": false,
   "toc_section_display": "block",
   "toc_window_display": false
  }
 },
 "nbformat": 4,
 "nbformat_minor": 0
}
