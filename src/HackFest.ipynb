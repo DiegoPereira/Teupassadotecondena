{
 "cells": [
  {
   "cell_type": "markdown",
   "metadata": {},
   "source": [
    "# HackFest"
   ]
  },
  {
   "cell_type": "markdown",
   "metadata": {},
   "source": [
    "### Imports"
   ]
  },
  {
   "cell_type": "code",
   "execution_count": 39,
   "metadata": {
    "collapsed": true
   },
   "outputs": [],
   "source": [
    "import numpy as np\n",
    "import pandas as pd\n",
    "import matplotlib.pyplot as plt\n",
    "import seaborn as sb"
   ]
  },
  {
   "cell_type": "code",
   "execution_count": 40,
   "metadata": {
    "collapsed": true
   },
   "outputs": [],
   "source": [
    "pd.options.display.max_rows = 20\n",
    "\n",
    "%matplotlib inline"
   ]
  },
  {
   "cell_type": "code",
   "execution_count": 41,
   "metadata": {},
   "outputs": [
    {
     "data": {
      "text/plain": [
       "(175805, 17)"
      ]
     },
     "execution_count": 41,
     "metadata": {},
     "output_type": "execute_result"
    }
   ],
   "source": [
    "df_con.shape"
   ]
  },
  {
   "cell_type": "code",
   "execution_count": 42,
   "metadata": {},
   "outputs": [
    {
     "name": "stderr",
     "output_type": "stream",
     "text": [
      "/home/diogo/miniconda3/envs/datascience/lib/python3.6/site-packages/IPython/core/interactiveshell.py:2698: DtypeWarning: Columns (9,10,12,13) have mixed types. Specify dtype option on import or set low_memory=False.\n",
      "  interactivity=interactivity, compiler=compiler, result=result)\n",
      "/home/diogo/miniconda3/envs/datascience/lib/python3.6/site-packages/IPython/core/interactiveshell.py:2698: DtypeWarning: Columns (5,7) have mixed types. Specify dtype option on import or set low_memory=False.\n",
      "  interactivity=interactivity, compiler=compiler, result=result)\n"
     ]
    }
   ],
   "source": [
    "df_pag = pd.read_csv('../data/pagamentos.csv', sep=';',)\n",
    "df_emp = pd.read_csv('../data/empenhos.csv', sep=';')\n",
    "df_lic = pd.read_csv('../data/licitacao.csv', sep=';')\n",
    "df_con = pd.read_csv('../data/contratos.csv', sep=';')\n",
    "df_adi = pd.read_csv('../data/aditivos.csv', encoding='ISO-8859-1',sep=';')\n"
   ]
  },
  {
   "cell_type": "markdown",
   "metadata": {},
   "source": [
    "### Quantidade de dinheiro ganho em todos os contratos"
   ]
  },
  {
   "cell_type": "code",
   "execution_count": 52,
   "metadata": {
    "collapsed": true
   },
   "outputs": [],
   "source": [
    "df_con.groupby('nu_CPFCNPJ')['vl_TotalContrato'].sum().reset_index().to_csv(path_or_buf=\"/home/diogo/Documentos/hackfest/Teupassadotecondena/data/valor_contratos_por_cnpj.csv\", sep=';')"
   ]
  },
  {
   "cell_type": "markdown",
   "metadata": {},
   "source": [
    "### Quantidade de contratos (Ganhos)"
   ]
  },
  {
   "cell_type": "code",
   "execution_count": 51,
   "metadata": {
    "collapsed": true
   },
   "outputs": [],
   "source": [
    "df_con.groupby(['nu_CPFCNPJ'])['nu_CPFCNPJ'].count().reset_index(name='qtdContratos').to_csv(path_or_buf=\"/home/diogo/Documentos/hackfest/Teupassadotecondena/data/qtde_contratos_ganhos.csv\", sep=';')"
   ]
  },
  {
   "cell_type": "markdown",
   "metadata": {},
   "source": [
    "### Total de Contratos Empresa"
   ]
  },
  {
   "cell_type": "code",
   "execution_count": null,
   "metadata": {
    "collapsed": true
   },
   "outputs": [],
   "source": [
    "# Total de contratos por empresa\n",
    "total_con = df_con.groupby(\"nu_CPFCNPJ\")[\"nu_CPFCNPJ\"].count().reset_index(name=\"qtdContratos\").sort(\"qtdContratos\")\n",
    "total_con.to_csv(\"../data/qtde_contratos_empresa.csv\",sep=\";\")"
   ]
  },
  {
   "cell_type": "markdown",
   "metadata": {},
   "source": [
    "### Descreve a quantidade de empresas pela quantidade de contratos\n"
   ]
  },
  {
   "cell_type": "code",
   "execution_count": null,
   "metadata": {
    "collapsed": true
   },
   "outputs": [],
   "source": [
    "#Descreve a quantidade de empresas pela quantidade de contratos\n",
    "qtd_empresas_por_contrato = total_con.groupby(\"qtdContratos\")[\"qtdContratos\"].sum()\n",
    "qtd_empresas_por_contrato.to_csv(\"../data/qtde_empresas_qtde_contratos.csv\",sep=\";\")\n",
    "#df_adi[df_adi[\"nu_Contrato\"].isin(df_con[\"nu_Contrato\"])].to_csv(\"C:\\\\Users\\\\Iron\\\\Desktop\\\\aditivos.cvs\", sep=\";\")"
   ]
  },
  {
   "cell_type": "markdown",
   "metadata": {},
   "source": [
    "### Quantidade de Aditivos por contrato"
   ]
  },
  {
   "cell_type": "code",
   "execution_count": null,
   "metadata": {
    "collapsed": true
   },
   "outputs": [],
   "source": [
    "#Quantidade de Aditivos por contrato\n",
    "qtd_aditivos_contrato = df_adi.groupby(\"nu_Contrato\")[\"nu_Contrato\"].count().reset_index(name=\"qtdContratosAditivos\").sort(\"qtdContratosAditivos\")\n",
    "qtd_aditivos_contrato.to_csv(\"../data/qtde_aditivos_contrato.csv\",sep=\";\")"
   ]
  },
  {
   "cell_type": "markdown",
   "metadata": {},
   "source": [
    "### Quantidade de aditivos por CPF/CNPJ"
   ]
  },
  {
   "cell_type": "code",
   "execution_count": null,
   "metadata": {
    "collapsed": true
   },
   "outputs": [],
   "source": [
    "#Quantidade de aditivos por CPFCNPJ, lebrar que cada contrato pode ter mais de 1 CPFCNPJ vinculado. Portanto os aditivos do contrato foram somados a cada CPFCNPJ\n",
    "\n",
    "df_qtdContratos_Aditivos = df_adi.groupby(\"nu_Contrato\")[\"nu_Contrato\"].count().reset_index(name=\"qtdContratosAditivos\").sort(\"qtdContratosAditivos\")\n",
    "\n",
    "df_con_merge = df_con.merge(df_qtdContratos_Aditivos,on=\"nu_Contrato\")\n",
    "\n",
    "df_adi_cpfcnpj = df_con_merge.groupby(\"nu_CPFCNPJ\")[\"qtdContratosAditivos\"].sum().reset_index(name=\"qtdAditivosPorCPFCNPJ\").sort(\"qtdAditivosPorCPFCNPJ\")       \n",
    "df_adi_cpfcnpj.to_csv(\"../data/qtde_aditivos_cpfcnpj.csv\",sep=\";\")"
   ]
  }
 ],
 "metadata": {
  "kernelspec": {
   "display_name": "Python 3",
   "language": "python",
   "name": "python3"
  },
  "language_info": {
   "codemirror_mode": {
    "name": "ipython",
    "version": 3
   },
   "file_extension": ".py",
   "mimetype": "text/x-python",
   "name": "python",
   "nbconvert_exporter": "python",
   "pygments_lexer": "ipython3",
   "version": "3.5.3"
  }
 },
 "nbformat": 4,
 "nbformat_minor": 2
}
